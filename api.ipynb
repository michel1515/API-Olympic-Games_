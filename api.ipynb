{
 "cells": [
  {
   "cell_type": "markdown",
   "metadata": {},
   "source": [
    "# Notebook de desarrollo API juegos olimpicos \n",
    "+ Importando librerias"
   ]
  },
  {
   "cell_type": "code",
   "execution_count": 1,
   "metadata": {},
   "outputs": [],
   "source": [
    "import pandas as pd\n",
    "import numpy as np\n",
    "from fastapi import FastAPI"
   ]
  },
  {
   "cell_type": "markdown",
   "metadata": {},
   "source": [
    "+ Instanciando FastAPI"
   ]
  },
  {
   "cell_type": "code",
   "execution_count": 2,
   "metadata": {},
   "outputs": [],
   "source": [
    "app=FastAPI()"
   ]
  },
  {
   "cell_type": "markdown",
   "metadata": {},
   "source": [
    "+ Cargar Datasets"
   ]
  },
  {
   "cell_type": "code",
   "execution_count": 3,
   "metadata": {},
   "outputs": [],
   "source": [
    "df=pd.read_parquet('Data/Dataset.parquet') "
   ]
  },
  {
   "cell_type": "markdown",
   "metadata": {},
   "source": [
    "+ Funciones"
   ]
  },
  {
   "cell_type": "markdown",
   "metadata": {},
   "source": [
    "+ Funcion inicio"
   ]
  },
  {
   "cell_type": "code",
   "execution_count": 4,
   "metadata": {},
   "outputs": [],
   "source": [
    "\n",
    "@app.get(\"/\")\n",
    "def index():\n",
    "    return{\"API:online\"}"
   ]
  },
  {
   "cell_type": "markdown",
   "metadata": {},
   "source": [
    "+ Funcion medals"
   ]
  },
  {
   "cell_type": "code",
   "execution_count": 5,
   "metadata": {},
   "outputs": [],
   "source": [
    "@app.get(\"/medals\")\n",
    "def medals():\n",
    "    medals=df['Medal'].value_counts()\n",
    "    return{medals.index[0]:medals.values[0], medals.index[1]:medals.values[1],medals.index[2]:medals.values[2]}"
   ]
  },
  {
   "cell_type": "code",
   "execution_count": 6,
   "metadata": {},
   "outputs": [
    {
     "data": {
      "text/plain": [
       "{'Gold': np.int64(14172), 'Bronze': np.int64(14162), 'Silver': np.int64(13898)}"
      ]
     },
     "execution_count": 6,
     "metadata": {},
     "output_type": "execute_result"
    }
   ],
   "source": [
    "medals()"
   ]
  },
  {
   "cell_type": "markdown",
   "metadata": {},
   "source": [
    "+ Funcion medal_country"
   ]
  },
  {
   "cell_type": "code",
   "execution_count": 7,
   "metadata": {},
   "outputs": [],
   "source": [
    "@app.get(\"/medal_country/{Pais}\")\n",
    "def medal_country(Pais:str):\n",
    "    filtro=df[df['Team']==Pais]\n",
    "    medallas=filtro['Medal'].value_counts()\n",
    "    dic={}\n",
    "    for i in range(len(medallas)):\n",
    "        dic[medallas.index[i]]=int(medallas.values[i])\n",
    "    return dic     "
   ]
  },
  {
   "cell_type": "code",
   "execution_count": 8,
   "metadata": {},
   "outputs": [
    {
     "data": {
      "text/plain": [
       "{'Bronze': 78, 'Gold': 30, 'Silver': 26}"
      ]
     },
     "execution_count": 8,
     "metadata": {},
     "output_type": "execute_result"
    }
   ],
   "source": [
    "medal_country('Mexico')"
   ]
  },
  {
   "cell_type": "code",
   "execution_count": 9,
   "metadata": {},
   "outputs": [],
   "source": [
    "@app.get(\"/medal_year/{Anio}\") \n",
    "def medal_year(Anio:int):\n",
    "    filtro=df[df['Year']==Anio]\n",
    "    medallas=filtro['Medal'].value_counts()\n",
    "    dic={}\n",
    "    for i in range(len(medallas)):\n",
    "        dic[medallas.index[i]]=int(medallas.values[i])\n",
    "    return dic     "
   ]
  },
  {
   "cell_type": "code",
   "execution_count": 10,
   "metadata": {},
   "outputs": [
    {
     "data": {
      "text/plain": [
       "{'Bronze': 703, 'Gold': 665, 'Silver': 655}"
      ]
     },
     "execution_count": 10,
     "metadata": {},
     "output_type": "execute_result"
    }
   ],
   "source": [
    "medal_year(2016)"
   ]
  },
  {
   "cell_type": "code",
   "execution_count": 11,
   "metadata": {},
   "outputs": [],
   "source": [
    "@app.get(\"/athletes/{nombre}\")\n",
    "def athletes(nombre:str):\n",
    "    filtro=df[df['Name']==nombre]\n",
    "    dic={}\n",
    "    if filtro==0:\n",
    "        return {'Error':'Revise los datos ingresados'}\n",
    "    dic['Nombre']=nombre\n",
    "    dic['Sexo']=filtro['sex'].values[0]\n",
    "    dic['Edad']=filtro['Age'].values[0]\n",
    "    dic['Pais']=list(filtro['Team'].value_counts().index)\n",
    "    dic['Juegos']=list(filtro['Games'].value_counts().index)\n",
    "    dic['Evento']=list(filtro['Event'].value_counts().index)\n",
    "    Medallas={}\n",
    "    for i in range(len(filtro['Medal'].value_counts())):\n",
    "        Medallas[filtro['Medal'].value_counts().index[i]]=filtro['Medal'].value_counts().values[i]\n",
    "    dic['Medallas']=Medallas    \n",
    "    return dic"
   ]
  }
 ],
 "metadata": {
  "kernelspec": {
   "display_name": "Python 3",
   "language": "python",
   "name": "python3"
  },
  "language_info": {
   "codemirror_mode": {
    "name": "ipython",
    "version": 3
   },
   "file_extension": ".py",
   "mimetype": "text/x-python",
   "name": "python",
   "nbconvert_exporter": "python",
   "pygments_lexer": "ipython3",
   "version": "3.11.0"
  }
 },
 "nbformat": 4,
 "nbformat_minor": 2
}
